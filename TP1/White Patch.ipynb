{
 "cells": [
  {
   "cell_type": "code",
   "execution_count": 1,
   "id": "5972cbc0",
   "metadata": {},
   "outputs": [
    {
     "name": "stdout",
     "output_type": "stream",
     "text": [
      "Using matplotlib backend: Qt5Agg\n"
     ]
    }
   ],
   "source": [
    "# TP1 B White Patch\n",
    "# Implementar el algoritmo White Patch para librarnos de las diferencias de color de iluminación\n",
    "\n",
    "\n",
    "#Si queremos que las imágenes sean mostradas en una ventana emergente quitar el inline\n",
    "%matplotlib\n",
    "\n",
    "# OpenCV-Python utiliza NumPy para el manejo de imágenes\n",
    "import numpy as np\n",
    "# cv2 es el módulo python para acceder a OpenCV \n",
    "import cv2 as cv\n",
    "# Usamos las poderosas herramientas de graficación de matplotlib para mostrar imágenes, perfiles, histogramas, etc\n",
    "import matplotlib.pyplot as plt"
   ]
  },
  {
   "cell_type": "code",
   "execution_count": 2,
   "id": "ef07495a",
   "metadata": {},
   "outputs": [],
   "source": [
    "# TP1 B\n",
    "# Implementar el algoritmo White Patch para librarnos de las diferencias de color de iluminación\n",
    "\n",
    "def white_patch(img_color):\n",
    "    \n",
    "    imgRGB = cv.cvtColor(img_color, cv.COLOR_BGR2RGB)\n",
    "    np.clip(imgRGB, 0, 255, out=imgRGB)   # Clip trunca a lo que se le diga (0 a 255)\n",
    "    \n",
    "    r, g, b = cv.split(imgRGB)\n",
    "    \n",
    "    r_max = np.amax(r)\n",
    "    g_max = np.amax(g)\n",
    "    b_max = np.amax(b)\n",
    "    \n",
    "    #print(r_max,g_max,b_max)\n",
    "    \n",
    "    R = r.astype(float) * (255 / r_max)\n",
    "    G = g.astype(float) * (255 / g_max)\n",
    "    B = b.astype(float) * (255 / b_max)\n",
    "    \n",
    "    R=R.astype('uint8')\n",
    "    G=G.astype('uint8')   \n",
    "    B=B.astype('uint8')    \n",
    "    \n",
    "    img_mod = cv.merge((R,G,B))\n",
    "    #img_mod = img * contraste \n",
    "    # Luego de dividir aplico un factor de escala para para que los valores vuelvan a ser valores representativos\n",
    "    #img_mod=img_mod.round()\n",
    "    #np.clip(img_mod, 0, 255, out=img_mod)   # Clip trunca a lo que se le diga (0 a 255)\n",
    "    #img_mod=img_mod.astype('uint8') # Hay que castear a 8 bits\n",
    "    #print(img_mod[0,0,0]) # valor del pixel [0,0,0] luego de la división \n",
    "    return img_mod, imgRGB\n"
   ]
  },
  {
   "cell_type": "code",
   "execution_count": 3,
   "id": "e26213d2",
   "metadata": {},
   "outputs": [
    {
     "data": {
      "text/plain": [
       "\"# Tomamos una muestra del color de fondo\\n\\nimg_color = cv.imread('WP_B.png')\\nimgRGB = cv.cvtColor(img_color, cv.COLOR_BGR2RGB)\\n\\nimg_muestra = imgRGB#[20:60,20:60,:]\\n\\nimg_wp1, imgRGB1 = white_patch(cv.imread('WP_B.png'), img_muestra)\\n                               \\n                               \\nplt.figure(2)\\nplt.imshow(img_wp1)\\nplt.show()\""
      ]
     },
     "execution_count": 3,
     "metadata": {},
     "output_type": "execute_result"
    }
   ],
   "source": [
    "'''# Tomamos una muestra del color de fondo\n",
    "\n",
    "img_color = cv.imread('WP_B.png')\n",
    "imgRGB = cv.cvtColor(img_color, cv.COLOR_BGR2RGB)\n",
    "\n",
    "img_muestra = imgRGB#[20:60,20:60,:]\n",
    "\n",
    "img_wp1, imgRGB1 = white_patch(cv.imread('WP_B.png'), img_muestra)\n",
    "                               \n",
    "                               \n",
    "plt.figure(2)\n",
    "plt.imshow(img_wp1)\n",
    "plt.show()'''"
   ]
  },
  {
   "cell_type": "code",
   "execution_count": 4,
   "id": "33ad0058",
   "metadata": {},
   "outputs": [],
   "source": [
    "img_wp1, imgRGB1 = white_patch(cv.imread('WP_B.png'))\n",
    "img_wp2, imgRGB2 = white_patch(cv.imread('WP_O.png'))\n",
    "img_wp3, imgRGB3 = white_patch(cv.imread('WP_R.png'))\n",
    "                               \n",
    "\n",
    "fig = plt.figure()\n",
    "ax1 = plt.subplot(231)\n",
    "ax1.imshow(imgRGB1)\n",
    "\n",
    "\n",
    "ax2=plt.subplot(232)\n",
    "ax2.imshow(imgRGB2)\n",
    "\n",
    "\n",
    "ax3=plt.subplot(233)\n",
    "ax3.imshow(imgRGB3)\n",
    "\n",
    "\n",
    "ax4=plt.subplot(234)\n",
    "ax4.imshow(img_wp1)\n",
    "\n",
    "\n",
    "ax5=plt.subplot(235)\n",
    "ax5.imshow(img_wp2)\n",
    "\n",
    "\n",
    "ax6=plt.subplot(236)\n",
    "ax6.imshow(img_wp3)\n",
    "\n",
    "\n",
    "plt.show()"
   ]
  },
  {
   "cell_type": "code",
   "execution_count": null,
   "id": "304c74cf",
   "metadata": {},
   "outputs": [],
   "source": []
  }
 ],
 "metadata": {
  "kernelspec": {
   "display_name": "Python 3 (ipykernel)",
   "language": "python",
   "name": "python3"
  },
  "language_info": {
   "codemirror_mode": {
    "name": "ipython",
    "version": 3
   },
   "file_extension": ".py",
   "mimetype": "text/x-python",
   "name": "python",
   "nbconvert_exporter": "python",
   "pygments_lexer": "ipython3",
   "version": "3.7.8"
  }
 },
 "nbformat": 4,
 "nbformat_minor": 5
}
