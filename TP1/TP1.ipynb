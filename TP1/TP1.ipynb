{
 "cells": [
  {
   "cell_type": "code",
   "execution_count": null,
   "id": "181c8f38",
   "metadata": {},
   "outputs": [],
   "source": [
    "#Si queremos que las imágenes sean mostradas en una ventana emergente quitar el inline\n",
    "%matplotlib\n",
    "\n",
    "# OpenCV-Python utiliza NumPy para el manejo de imágenes\n",
    "import numpy as np\n",
    "# cv2 es el módulo python para acceder a OpenCV \n",
    "import cv2 as cv\n",
    "# Usamos las poderosas herramientas de graficación de matplotlib para mostrar imágenes, perfiles, histogramas, etc\n",
    "import matplotlib.pyplot as plt"
   ]
  },
  {
   "cell_type": "code",
   "execution_count": null,
   "id": "243ea64a",
   "metadata": {},
   "outputs": [],
   "source": [
    "# Cargar una imagen en modo monocromático (un canal)\n",
    "img = cv.imread('CoordCrom_1.png',cv.IMREAD_GRAYSCALE)\n",
    "\n",
    "# Como lucen los datos en un np.array\n",
    "print(img.shape)\n",
    "\n",
    "# Dimensión de la imagen\n",
    "print('\\nTamaño imagen: {} pix'.format(img.shape))"
   ]
  },
  {
   "cell_type": "code",
   "execution_count": null,
   "id": "4a5d5a37",
   "metadata": {},
   "outputs": [],
   "source": [
    "# Muestro la imagen con matplotlib\n",
    "plt.imshow(img)\n",
    "#plt.show()\n",
    "\n",
    "# Mat plot lib me muestra las imagenes \n",
    "# Quiero ver la imagen en tonos de grises\n",
    "# le aclaro a matplotlib que la imagen esta en escala de grises\n",
    "#plt.imshow(img, cmap='gray', vmin=0, vmax=255)\n",
    "#plt.show()"
   ]
  },
  {
   "cell_type": "code",
   "execution_count": null,
   "id": "94f4025a",
   "metadata": {},
   "outputs": [],
   "source": [
    "# Parece que tengo problemas con la paleta de colores \n",
    "# Paso la imagen de BRG a RGB\n",
    "\n",
    "img_color1 = cv.imread('CoordCrom_1.png')\n",
    "imgRGB1 = cv.cvtColor(img_color1, cv.COLOR_BGR2RGB)\n",
    "\n",
    "\n",
    "plt.imshow(imgRGB1)\n",
    "#plt.show()\n",
    "#print(np.shape(imgRGB1))\n",
    "#print(imgRGB1)"
   ]
  },
  {
   "cell_type": "code",
   "execution_count": null,
   "id": "15f6a1f2",
   "metadata": {},
   "outputs": [],
   "source": [
    "def coordenadas_cromaticas(img_color1):\n",
    "    \n",
    "    imgRGB1 = cv.cvtColor(img_color1, cv.COLOR_BGR2RGB)\n",
    "\n",
    "    imgRGB1 = imgRGB1 + np.ones((996, 908, 3), dtype=int)\n",
    "    np.clip(imgRGB1, 0, 255, out=imgRGB1)   # Clip trunca a lo que se le diga (0 a 255)\n",
    "    r, g, b = cv.split(imgRGB1)\n",
    "\n",
    "    #print(r[1,1])\n",
    "\n",
    "    R = r / (r + g + b)\n",
    "    G = g / (r + g + b)\n",
    "    B = b / (r + g + b)\n",
    "\n",
    "    img = cv.merge((R,G,B))\n",
    "    img_mod = 644 * img\n",
    "    img_mod=img_mod.round()\n",
    "    np.clip(img_mod, 0, 255, out=img_mod)   # Clip trunca a lo que se le diga (0 a 255)\n",
    "    img_mod=img_mod.astype('uint8') # Hay que castear a 8 bits\n",
    "    #print(img_mod[1,1,0])\n",
    "    return img_mod\n",
    "    "
   ]
  },
  {
   "cell_type": "code",
   "execution_count": null,
   "id": "f42cd7ed",
   "metadata": {},
   "outputs": [],
   "source": [
    "img_color1 = cv.imread('CoordCrom_1.png')\n",
    "img_color2 = cv.imread('CoordCrom_2.png')\n",
    "img_color3 = cv.imread('CoordCrom_3.png')\n",
    "imgRGB1 = cv.cvtColor(img_color1, cv.COLOR_BGR2RGB)\n",
    "imgRGB2 = cv.cvtColor(img_color2, cv.COLOR_BGR2RGB)\n",
    "imgRGB3 = cv.cvtColor(img_color3, cv.COLOR_BGR2RGB)\n",
    "imgcro1 = coordenadas_cromaticas(img_color1)\n",
    "imgcro2 = coordenadas_cromaticas(img_color2)\n",
    "imgcro3 = coordenadas_cromaticas(img_color3)\n",
    "\n",
    "fig = plt.figure()\n",
    "ax1 = plt.subplot(231)\n",
    "ax1.imshow(imgRGB1)\n",
    "\n",
    "\n",
    "ax2=plt.subplot(232)\n",
    "ax2.imshow(imgRGB2)\n",
    "\n",
    "\n",
    "ax3=plt.subplot(233)\n",
    "ax3.imshow(imgRGB3)\n",
    "\n",
    "\n",
    "ax4=plt.subplot(234)\n",
    "ax4.imshow(imgcro1)\n",
    "\n",
    "\n",
    "ax5=plt.subplot(235)\n",
    "ax5.imshow(imgcro2)\n",
    "\n",
    "\n",
    "ax6=plt.subplot(236)\n",
    "ax6.imshow(imgcro3)\n",
    "\n",
    "\n",
    "plt.show()"
   ]
  }
 ],
 "metadata": {
  "kernelspec": {
   "display_name": "Python 3 (ipykernel)",
   "language": "python",
   "name": "python3"
  },
  "language_info": {
   "codemirror_mode": {
    "name": "ipython",
    "version": 3
   },
   "file_extension": ".py",
   "mimetype": "text/x-python",
   "name": "python",
   "nbconvert_exporter": "python",
   "pygments_lexer": "ipython3",
   "version": "3.7.11"
  }
 },
 "nbformat": 4,
 "nbformat_minor": 5
}
